{
 "cells": [
  {
   "cell_type": "code",
   "execution_count": null,
   "id": "c0b01820",
   "metadata": {},
   "outputs": [],
   "source": [
    "# 1) Aşağıdaki kodun çıktısı ne olacaktır?\""
   ]
  },
  {
   "cell_type": "code",
   "execution_count": null,
   "id": "d494cd54",
   "metadata": {},
   "outputs": [],
   "source": [
    "x = 5\n",
    "y = 3\n",
    "z = 6"
   ]
  },
  {
   "cell_type": "code",
   "execution_count": null,
   "id": "65f7c765",
   "metadata": {},
   "outputs": [],
   "source": [
    "\"x > y and z > x\""
   ]
  },
  {
   "cell_type": "code",
   "execution_count": null,
   "id": "bb71523b",
   "metadata": {},
   "outputs": [],
   "source": [
    "True"
   ]
  },
  {
   "cell_type": "code",
   "execution_count": null,
   "id": "5762f60a",
   "metadata": {},
   "outputs": [],
   "source": [
    "True"
   ]
  },
  {
   "cell_type": "code",
   "execution_count": null,
   "id": "71822a5f",
   "metadata": {},
   "outputs": [],
   "source": [
    "# 2) Aynı değerlerle kod şu şekilde değiştilirse çıktı ne olacaktır?\""
   ]
  },
  {
   "cell_type": "code",
   "execution_count": null,
   "id": "a945fe4f",
   "metadata": {},
   "outputs": [],
   "source": [
    "\"x < y or z > y\""
   ]
  },
  {
   "cell_type": "code",
   "execution_count": null,
   "id": "74137e23",
   "metadata": {},
   "outputs": [],
   "source": []
  },
  {
   "cell_type": "code",
   "execution_count": null,
   "id": "2c5e1b66",
   "metadata": {},
   "outputs": [],
   "source": [
    "True"
   ]
  },
  {
   "cell_type": "code",
   "execution_count": null,
   "id": "c2461167",
   "metadata": {},
   "outputs": [],
   "source": [
    "# 3) Aşağıdaki kodun çıktısı ne olacaktır?"
   ]
  },
  {
   "cell_type": "code",
   "execution_count": null,
   "id": "84c3ed6a",
   "metadata": {},
   "outputs": [],
   "source": [
    "    \"yas = 20\\n\",\n",
    "    \"\\n\",\n",
    "    \"if yas < 18:\\n\",\n",
    "    \"    print(\\\"18 yaşından küçüksünüz\\\")\\n\",\n",
    "    \"elif yas >= 18 and yas < 30:\\n\",\n",
    "    \"    print(\\\"18 ile 30 yaş arasında bir gençsiniz\\\")\\n\",\n",
    "    \"elif yas >= 30 and yas < 40:\\n\",\n",
    "    \"    print(\\\"30 ve 40 arasına gelmişsiniz\\\")\\n\",\n",
    "    \"else:\\n\",\n",
    "    \"    print(\\\"40 yaşından daha büyüksünüz\\\")\\n\","
   ]
  },
  {
   "cell_type": "code",
   "execution_count": null,
   "id": "aed3a65b",
   "metadata": {},
   "outputs": [],
   "source": [
    "18 ile 30 yaş arasında bir gençsiniz"
   ]
  },
  {
   "cell_type": "code",
   "execution_count": null,
   "id": "cb9f38e1",
   "metadata": {},
   "outputs": [],
   "source": []
  },
  {
   "cell_type": "code",
   "execution_count": null,
   "id": "bf6b2a97",
   "metadata": {},
   "outputs": [],
   "source": [
    "# 4) Aşağıdaki sözlükte, değerler içinde c harfinin geçip geçmediğini gösteren bir if koşulu yazınız"
   ]
  },
  {
   "cell_type": "code",
   "execution_count": 68,
   "id": "178e22e4",
   "metadata": {},
   "outputs": [],
   "source": [
    "my_dictionary = {\"k1\":10,\"k2k\":\"a\",\"k32\":30,\"k4\":\"c\"}"
   ]
  },
  {
   "cell_type": "code",
   "execution_count": 73,
   "id": "5e7686b6",
   "metadata": {},
   "outputs": [
    {
     "name": "stdout",
     "output_type": "stream",
     "text": [
      "yes\n"
     ]
    }
   ],
   "source": [
    "if \"c\" in my_dictionary.values():\n",
    "    print(\"yes\")"
   ]
  },
  {
   "cell_type": "code",
   "execution_count": null,
   "id": "e729509c",
   "metadata": {},
   "outputs": [],
   "source": []
  },
  {
   "cell_type": "code",
   "execution_count": null,
   "id": "2512d784",
   "metadata": {},
   "outputs": [],
   "source": [
    "#5) Aşağıdaki sözlükte, anahtarlar içinde a harfinin geçip geçmediğini gösteren bir if koşulu yazınız"
   ]
  },
  {
   "cell_type": "code",
   "execution_count": 74,
   "id": "a1a842ea",
   "metadata": {},
   "outputs": [],
   "source": [
    "my_other_dictionary = {\"b\":203,\"c\":\"a\",\"a\":400,\"d\":\"f\"}"
   ]
  },
  {
   "cell_type": "code",
   "execution_count": 75,
   "id": "23896d43",
   "metadata": {},
   "outputs": [
    {
     "name": "stdout",
     "output_type": "stream",
     "text": [
      "yes\n"
     ]
    }
   ],
   "source": [
    "if \"a\" in my_other_dictionary.keys():\n",
    "    print(\"yes\")"
   ]
  },
  {
   "cell_type": "code",
   "execution_count": null,
   "id": "9ce8409a",
   "metadata": {},
   "outputs": [],
   "source": []
  },
  {
   "cell_type": "code",
   "execution_count": null,
   "id": "f15521ce",
   "metadata": {},
   "outputs": [],
   "source": [
    "#6) Aşağıdaki listedeki sayılardan sadece çift sayı olanları yazdıran bir kod yazınız."
   ]
  },
  {
   "cell_type": "code",
   "execution_count": 8,
   "id": "b52a0814",
   "metadata": {},
   "outputs": [],
   "source": [
    "my_numbers = [1,2,3,4,5,6,19,20,32,21,20,1111,23,24]"
   ]
  },
  {
   "cell_type": "code",
   "execution_count": 10,
   "id": "7b2f0cc4",
   "metadata": {},
   "outputs": [
    {
     "name": "stdout",
     "output_type": "stream",
     "text": [
      "2\n",
      "4\n",
      "6\n",
      "20\n",
      "32\n",
      "20\n",
      "24\n"
     ]
    }
   ],
   "source": [
    "for number in my_numbers:\n",
    "    if number % 2 == 0:\n",
    "        print(number)"
   ]
  },
  {
   "cell_type": "code",
   "execution_count": null,
   "id": "9e010c61",
   "metadata": {},
   "outputs": [],
   "source": []
  },
  {
   "cell_type": "code",
   "execution_count": null,
   "id": "9d2bc2bc",
   "metadata": {},
   "outputs": [],
   "source": [
    "#7) Aşağıdaki listedeki sayılar bir dairenin yarı çapını vermektedir."
   ]
  },
  {
   "cell_type": "code",
   "execution_count": null,
   "id": "21907015",
   "metadata": {},
   "outputs": [],
   "source": [
    "#Tüm dairelerin çevresini içeren başka yeni bir liste oluşturunuz. (İpucu: 2 * pi * r)  Pi 3.14 alınabilir."
   ]
  },
  {
   "cell_type": "code",
   "execution_count": 42,
   "id": "27a065a5",
   "metadata": {},
   "outputs": [],
   "source": [
    "r_list = [3,2,5,8,4,6,9,12]"
   ]
  },
  {
   "cell_type": "code",
   "execution_count": 43,
   "id": "85ba9349",
   "metadata": {},
   "outputs": [],
   "source": [
    "r = [3,2,5,8,4,6,9,12]"
   ]
  },
  {
   "cell_type": "code",
   "execution_count": 49,
   "id": "b454da02",
   "metadata": {},
   "outputs": [],
   "source": [
    "new_number_list = []\n",
    "for num in r_list:\n",
    "    new_number_list.append(2 * 3.14 * num)"
   ]
  },
  {
   "cell_type": "code",
   "execution_count": 50,
   "id": "ec7e294e",
   "metadata": {},
   "outputs": [
    {
     "data": {
      "text/plain": [
       "[18.84, 12.56, 31.400000000000002, 50.24, 25.12, 37.68, 56.52, 75.36]"
      ]
     },
     "execution_count": 50,
     "metadata": {},
     "output_type": "execute_result"
    }
   ],
   "source": [
    "new_number_list"
   ]
  },
  {
   "cell_type": "code",
   "execution_count": null,
   "id": "33da6341",
   "metadata": {},
   "outputs": [],
   "source": []
  },
  {
   "cell_type": "code",
   "execution_count": null,
   "id": "84e3ecdb",
   "metadata": {},
   "outputs": [],
   "source": [
    "#8) Aşağıdaki listede isim - yaş eşleşmelerinin bulunduğu yapılar mevcuttur."
   ]
  },
  {
   "cell_type": "code",
   "execution_count": null,
   "id": "a025d05c",
   "metadata": {},
   "outputs": [],
   "source": [
    "# Sadece yaşların olduğu yeni ve ayrı bir liste oluşturunuz."
   ]
  },
  {
   "cell_type": "code",
   "execution_count": 11,
   "id": "525b29f1",
   "metadata": {},
   "outputs": [],
   "source": [
    "age_name_list = [(\"Ahmet\",30),(\"Ayse\",24),(\"Mehmet\",40),(\"Fatma\",29)]"
   ]
  },
  {
   "cell_type": "code",
   "execution_count": 12,
   "id": "c318007c",
   "metadata": {},
   "outputs": [
    {
     "name": "stdout",
     "output_type": "stream",
     "text": [
      "Ahmet\n",
      "Ayse\n",
      "Mehmet\n",
      "Fatma\n"
     ]
    }
   ],
   "source": [
    "for (x,y) in age_name_list:\n",
    "    print(x)"
   ]
  },
  {
   "cell_type": "code",
   "execution_count": 13,
   "id": "e40acf3d",
   "metadata": {},
   "outputs": [
    {
     "name": "stdout",
     "output_type": "stream",
     "text": [
      "30\n",
      "24\n",
      "40\n",
      "29\n"
     ]
    }
   ],
   "source": [
    "for (x,y) in age_name_list:\n",
    "    print(y)"
   ]
  },
  {
   "cell_type": "code",
   "execution_count": null,
   "id": "b4ec715e",
   "metadata": {},
   "outputs": [],
   "source": []
  },
  {
   "cell_type": "code",
   "execution_count": null,
   "id": "4eb7ed2f",
   "metadata": {},
   "outputs": [],
   "source": [
    "#9) Aşağıdaki müzik gruplarından birini rastgele yazdıran bir kod yazınız"
   ]
  },
  {
   "cell_type": "code",
   "execution_count": 17,
   "id": "2156edda",
   "metadata": {},
   "outputs": [],
   "source": [
    "metal_list = [\"Metallica\",\"Iron Maiden\",\"Dream Theater\",\"Megadeth\",\"AC/DC\"]"
   ]
  },
  {
   "cell_type": "code",
   "execution_count": 18,
   "id": "b999154a",
   "metadata": {},
   "outputs": [],
   "source": [
    "from random import randint"
   ]
  },
  {
   "cell_type": "code",
   "execution_count": 22,
   "id": "c6f59442",
   "metadata": {},
   "outputs": [
    {
     "data": {
      "text/plain": [
       "'AC/DC'"
      ]
     },
     "execution_count": 22,
     "metadata": {},
     "output_type": "execute_result"
    }
   ],
   "source": [
    "metal_list[randint(0,len(metal_list))]"
   ]
  },
  {
   "cell_type": "code",
   "execution_count": null,
   "id": "922a9147",
   "metadata": {},
   "outputs": [],
   "source": []
  },
  {
   "cell_type": "code",
   "execution_count": null,
   "id": "ccc423cd",
   "metadata": {},
   "outputs": [],
   "source": [
    "#10) Aşağıdaki kodun çıktısı ne olacaktır"
   ]
  },
  {
   "cell_type": "code",
   "execution_count": 77,
   "id": "fbfbd750",
   "metadata": {},
   "outputs": [],
   "source": [
    "number_list = [5,7,18,21,20,10,405,24]"
   ]
  },
  {
   "cell_type": "code",
   "execution_count": 78,
   "id": "8137b71b",
   "metadata": {},
   "outputs": [
    {
     "data": {
      "text/plain": [
       "[False, False, True, False, True, True, False, True]"
      ]
     },
     "execution_count": 78,
     "metadata": {},
     "output_type": "execute_result"
    }
   ],
   "source": [
    "[num % 2 == 0 for num in number_list]"
   ]
  },
  {
   "cell_type": "code",
   "execution_count": null,
   "id": "5dfe10c0",
   "metadata": {},
   "outputs": [],
   "source": [
    "18\n",
    "20\n",
    "10\n",
    "24"
   ]
  },
  {
   "cell_type": "code",
   "execution_count": null,
   "id": "a7090791",
   "metadata": {},
   "outputs": [],
   "source": []
  },
  {
   "cell_type": "code",
   "execution_count": null,
   "id": "4fdbf273",
   "metadata": {},
   "outputs": [],
   "source": []
  }
 ],
 "metadata": {
  "kernelspec": {
   "display_name": "Python 3 (ipykernel)",
   "language": "python",
   "name": "python3"
  },
  "language_info": {
   "codemirror_mode": {
    "name": "ipython",
    "version": 3
   },
   "file_extension": ".py",
   "mimetype": "text/x-python",
   "name": "python",
   "nbconvert_exporter": "python",
   "pygments_lexer": "ipython3",
   "version": "3.11.5"
  }
 },
 "nbformat": 4,
 "nbformat_minor": 5
}
